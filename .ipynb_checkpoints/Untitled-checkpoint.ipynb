{
 "cells": [
  {
   "cell_type": "markdown",
   "metadata": {},
   "source": [
    "## Nacitavanie a opracovavanie"
   ]
  },
  {
   "cell_type": "code",
   "execution_count": 1,
   "metadata": {
    "slideshow": {
     "slide_type": "slide"
    }
   },
   "outputs": [
    {
     "name": "stdout",
     "output_type": "stream",
     "text": [
      "food_import_perc.csv  life_exp.csv\t urban_perc.csv\r\n",
      "hdp_pc.csv\t      tech_articles.csv\r\n"
     ]
    }
   ],
   "source": [
    "import pandas as pd\n",
    "import numpy as np\n",
    "import matplotlib.pyplot as plt\n",
    "import _thread\n",
    "!ls datasets"
   ]
  },
  {
   "cell_type": "code",
   "execution_count": 2,
   "metadata": {
    "slideshow": {
     "slide_type": "slide"
    }
   },
   "outputs": [
    {
     "data": {
      "text/html": [
       "<div>\n",
       "<style scoped>\n",
       "    .dataframe tbody tr th:only-of-type {\n",
       "        vertical-align: middle;\n",
       "    }\n",
       "\n",
       "    .dataframe tbody tr th {\n",
       "        vertical-align: top;\n",
       "    }\n",
       "\n",
       "    .dataframe thead th {\n",
       "        text-align: right;\n",
       "    }\n",
       "</style>\n",
       "<table border=\"1\" class=\"dataframe\">\n",
       "  <thead>\n",
       "    <tr style=\"text-align: right;\">\n",
       "      <th></th>\n",
       "      <th>Country Name</th>\n",
       "      <th>Country Code</th>\n",
       "      <th>Indicator Name</th>\n",
       "      <th>Indicator Code</th>\n",
       "      <th>1960</th>\n",
       "      <th>1961</th>\n",
       "      <th>1962</th>\n",
       "      <th>1963</th>\n",
       "      <th>1964</th>\n",
       "      <th>1965</th>\n",
       "      <th>...</th>\n",
       "      <th>2007</th>\n",
       "      <th>2008</th>\n",
       "      <th>2009</th>\n",
       "      <th>2010</th>\n",
       "      <th>2011</th>\n",
       "      <th>2012</th>\n",
       "      <th>2013</th>\n",
       "      <th>2014</th>\n",
       "      <th>2015</th>\n",
       "      <th>2016</th>\n",
       "    </tr>\n",
       "  </thead>\n",
       "  <tbody>\n",
       "    <tr>\n",
       "      <th>0</th>\n",
       "      <td>Aruba</td>\n",
       "      <td>ABW</td>\n",
       "      <td>GDP per capita (current US$)</td>\n",
       "      <td>NY.GDP.PCAP.CD</td>\n",
       "      <td>NaN</td>\n",
       "      <td>NaN</td>\n",
       "      <td>NaN</td>\n",
       "      <td>NaN</td>\n",
       "      <td>NaN</td>\n",
       "      <td>NaN</td>\n",
       "      <td>...</td>\n",
       "      <td>25921.026050</td>\n",
       "      <td>27546.899390</td>\n",
       "      <td>24631.434860</td>\n",
       "      <td>24271.940420</td>\n",
       "      <td>25324.720360</td>\n",
       "      <td>NaN</td>\n",
       "      <td>NaN</td>\n",
       "      <td>NaN</td>\n",
       "      <td>NaN</td>\n",
       "      <td>NaN</td>\n",
       "    </tr>\n",
       "    <tr>\n",
       "      <th>1</th>\n",
       "      <td>Afghanistan</td>\n",
       "      <td>AFG</td>\n",
       "      <td>GDP per capita (current US$)</td>\n",
       "      <td>NY.GDP.PCAP.CD</td>\n",
       "      <td>59.777327</td>\n",
       "      <td>59.878153</td>\n",
       "      <td>58.492874</td>\n",
       "      <td>78.782758</td>\n",
       "      <td>82.208444</td>\n",
       "      <td>101.290471</td>\n",
       "      <td>...</td>\n",
       "      <td>369.835796</td>\n",
       "      <td>373.361116</td>\n",
       "      <td>445.893298</td>\n",
       "      <td>553.300289</td>\n",
       "      <td>603.537023</td>\n",
       "      <td>669.009051</td>\n",
       "      <td>638.612543</td>\n",
       "      <td>629.345250</td>\n",
       "      <td>569.577923</td>\n",
       "      <td>561.778746</td>\n",
       "    </tr>\n",
       "    <tr>\n",
       "      <th>2</th>\n",
       "      <td>Angola</td>\n",
       "      <td>AGO</td>\n",
       "      <td>GDP per capita (current US$)</td>\n",
       "      <td>NY.GDP.PCAP.CD</td>\n",
       "      <td>NaN</td>\n",
       "      <td>NaN</td>\n",
       "      <td>NaN</td>\n",
       "      <td>NaN</td>\n",
       "      <td>NaN</td>\n",
       "      <td>NaN</td>\n",
       "      <td>...</td>\n",
       "      <td>2878.837144</td>\n",
       "      <td>3868.578883</td>\n",
       "      <td>3347.844850</td>\n",
       "      <td>3529.053482</td>\n",
       "      <td>4299.012889</td>\n",
       "      <td>4598.249988</td>\n",
       "      <td>4804.616884</td>\n",
       "      <td>4709.312024</td>\n",
       "      <td>3695.793748</td>\n",
       "      <td>3308.700233</td>\n",
       "    </tr>\n",
       "    <tr>\n",
       "      <th>3</th>\n",
       "      <td>Albania</td>\n",
       "      <td>ALB</td>\n",
       "      <td>GDP per capita (current US$)</td>\n",
       "      <td>NY.GDP.PCAP.CD</td>\n",
       "      <td>NaN</td>\n",
       "      <td>NaN</td>\n",
       "      <td>NaN</td>\n",
       "      <td>NaN</td>\n",
       "      <td>NaN</td>\n",
       "      <td>NaN</td>\n",
       "      <td>...</td>\n",
       "      <td>3603.013685</td>\n",
       "      <td>4370.539647</td>\n",
       "      <td>4114.136545</td>\n",
       "      <td>4094.358832</td>\n",
       "      <td>4437.178068</td>\n",
       "      <td>4247.614308</td>\n",
       "      <td>4413.081697</td>\n",
       "      <td>4578.666728</td>\n",
       "      <td>3934.895394</td>\n",
       "      <td>4124.982390</td>\n",
       "    </tr>\n",
       "    <tr>\n",
       "      <th>4</th>\n",
       "      <td>Andorra</td>\n",
       "      <td>AND</td>\n",
       "      <td>GDP per capita (current US$)</td>\n",
       "      <td>NY.GDP.PCAP.CD</td>\n",
       "      <td>NaN</td>\n",
       "      <td>NaN</td>\n",
       "      <td>NaN</td>\n",
       "      <td>NaN</td>\n",
       "      <td>NaN</td>\n",
       "      <td>NaN</td>\n",
       "      <td>...</td>\n",
       "      <td>48582.808460</td>\n",
       "      <td>47785.659090</td>\n",
       "      <td>43339.379870</td>\n",
       "      <td>39736.354060</td>\n",
       "      <td>41098.766940</td>\n",
       "      <td>38391.080870</td>\n",
       "      <td>40619.711300</td>\n",
       "      <td>42294.994730</td>\n",
       "      <td>36038.267600</td>\n",
       "      <td>36988.622030</td>\n",
       "    </tr>\n",
       "  </tbody>\n",
       "</table>\n",
       "<p>5 rows × 61 columns</p>\n",
       "</div>"
      ],
      "text/plain": [
       "  Country Name Country Code                Indicator Name  Indicator Code  \\\n",
       "0        Aruba          ABW  GDP per capita (current US$)  NY.GDP.PCAP.CD   \n",
       "1  Afghanistan          AFG  GDP per capita (current US$)  NY.GDP.PCAP.CD   \n",
       "2       Angola          AGO  GDP per capita (current US$)  NY.GDP.PCAP.CD   \n",
       "3      Albania          ALB  GDP per capita (current US$)  NY.GDP.PCAP.CD   \n",
       "4      Andorra          AND  GDP per capita (current US$)  NY.GDP.PCAP.CD   \n",
       "\n",
       "        1960       1961       1962       1963       1964        1965  \\\n",
       "0        NaN        NaN        NaN        NaN        NaN         NaN   \n",
       "1  59.777327  59.878153  58.492874  78.782758  82.208444  101.290471   \n",
       "2        NaN        NaN        NaN        NaN        NaN         NaN   \n",
       "3        NaN        NaN        NaN        NaN        NaN         NaN   \n",
       "4        NaN        NaN        NaN        NaN        NaN         NaN   \n",
       "\n",
       "       ...               2007          2008          2009          2010  \\\n",
       "0      ...       25921.026050  27546.899390  24631.434860  24271.940420   \n",
       "1      ...         369.835796    373.361116    445.893298    553.300289   \n",
       "2      ...        2878.837144   3868.578883   3347.844850   3529.053482   \n",
       "3      ...        3603.013685   4370.539647   4114.136545   4094.358832   \n",
       "4      ...       48582.808460  47785.659090  43339.379870  39736.354060   \n",
       "\n",
       "           2011          2012          2013          2014          2015  \\\n",
       "0  25324.720360           NaN           NaN           NaN           NaN   \n",
       "1    603.537023    669.009051    638.612543    629.345250    569.577923   \n",
       "2   4299.012889   4598.249988   4804.616884   4709.312024   3695.793748   \n",
       "3   4437.178068   4247.614308   4413.081697   4578.666728   3934.895394   \n",
       "4  41098.766940  38391.080870  40619.711300  42294.994730  36038.267600   \n",
       "\n",
       "           2016  \n",
       "0           NaN  \n",
       "1    561.778746  \n",
       "2   3308.700233  \n",
       "3   4124.982390  \n",
       "4  36988.622030  \n",
       "\n",
       "[5 rows x 61 columns]"
      ]
     },
     "execution_count": 2,
     "metadata": {},
     "output_type": "execute_result"
    }
   ],
   "source": [
    "hdp = pd.read_csv('datasets/hdp_pc.csv')\n",
    "hdp.head()"
   ]
  },
  {
   "cell_type": "code",
   "execution_count": 3,
   "metadata": {
    "slideshow": {
     "slide_type": "slide"
    }
   },
   "outputs": [
    {
     "data": {
      "text/html": [
       "<div>\n",
       "<style scoped>\n",
       "    .dataframe tbody tr th:only-of-type {\n",
       "        vertical-align: middle;\n",
       "    }\n",
       "\n",
       "    .dataframe tbody tr th {\n",
       "        vertical-align: top;\n",
       "    }\n",
       "\n",
       "    .dataframe thead th {\n",
       "        text-align: right;\n",
       "    }\n",
       "</style>\n",
       "<table border=\"1\" class=\"dataframe\">\n",
       "  <thead>\n",
       "    <tr style=\"text-align: right;\">\n",
       "      <th></th>\n",
       "      <th>krajina</th>\n",
       "      <th>kod_krajiny</th>\n",
       "      <th>hdp</th>\n",
       "    </tr>\n",
       "  </thead>\n",
       "  <tbody>\n",
       "    <tr>\n",
       "      <th>0</th>\n",
       "      <td>Aruba</td>\n",
       "      <td>ABW</td>\n",
       "      <td>NaN</td>\n",
       "    </tr>\n",
       "    <tr>\n",
       "      <th>1</th>\n",
       "      <td>Afghanistan</td>\n",
       "      <td>AFG</td>\n",
       "      <td>561.778746</td>\n",
       "    </tr>\n",
       "    <tr>\n",
       "      <th>2</th>\n",
       "      <td>Angola</td>\n",
       "      <td>AGO</td>\n",
       "      <td>3308.700233</td>\n",
       "    </tr>\n",
       "    <tr>\n",
       "      <th>3</th>\n",
       "      <td>Albania</td>\n",
       "      <td>ALB</td>\n",
       "      <td>4124.982390</td>\n",
       "    </tr>\n",
       "    <tr>\n",
       "      <th>4</th>\n",
       "      <td>Andorra</td>\n",
       "      <td>AND</td>\n",
       "      <td>36988.622030</td>\n",
       "    </tr>\n",
       "  </tbody>\n",
       "</table>\n",
       "</div>"
      ],
      "text/plain": [
       "       krajina kod_krajiny           hdp\n",
       "0        Aruba         ABW           NaN\n",
       "1  Afghanistan         AFG    561.778746\n",
       "2       Angola         AGO   3308.700233\n",
       "3      Albania         ALB   4124.982390\n",
       "4      Andorra         AND  36988.622030"
      ]
     },
     "execution_count": 3,
     "metadata": {},
     "output_type": "execute_result"
    }
   ],
   "source": [
    "hdp = pd.DataFrame(hdp.iloc[:, [0,1,len(hdp.columns)-1]])\n",
    "hdp.columns = ['krajina', 'kod_krajiny', 'hdp']\n",
    "hdp.head()"
   ]
  },
  {
   "cell_type": "code",
   "execution_count": 4,
   "metadata": {
    "slideshow": {
     "slide_type": "slide"
    }
   },
   "outputs": [],
   "source": [
    "def opracuj_a_ukaz(tabulka, nazov_stlpca):\n",
    "    tabulka = pd.DataFrame(tabulka.iloc[:, [1, len(tabulka.columns)-1]])\n",
    "    tabulka.columns = ['kod_krajiny', nazov_stlpca]\n",
    "    print(tabulka.head())\n",
    "    print(\"\")\n",
    "    return tabulka"
   ]
  },
  {
   "cell_type": "code",
   "execution_count": 5,
   "metadata": {
    "slideshow": {
     "slide_type": "slide"
    }
   },
   "outputs": [
    {
     "name": "stdout",
     "output_type": "stream",
     "text": [
      "  kod_krajiny  pocet_clankov\n",
      "0         ABW            NaN\n",
      "1         AFG           80.4\n",
      "2         AGO           39.1\n",
      "3         ALB          191.4\n",
      "4         AND            7.9\n",
      "\n",
      "  kod_krajiny  dlzka_zivota\n",
      "0         ABW        75.867\n",
      "1         AFG        63.673\n",
      "2         AGO        61.547\n",
      "3         ALB        78.345\n",
      "4         AND           NaN\n",
      "\n",
      "  kod_krajiny  perc_v_mestach\n",
      "0         ABW          41.304\n",
      "1         AFG          27.132\n",
      "2         AGO          44.819\n",
      "3         ALB          58.376\n",
      "4         AND          84.612\n",
      "\n",
      "  kod_krajiny  jedlo_import_perc\n",
      "0         ABW          29.859899\n",
      "1         AFG          23.559998\n",
      "2         AGO                NaN\n",
      "3         ALB          14.149751\n",
      "4         AND                NaN\n",
      "\n"
     ]
    }
   ],
   "source": [
    "pocet_clankov = opracuj_a_ukaz(pd.read_csv('./datasets/tech_articles.csv'), \"pocet_clankov\")\n",
    "dlzka_zivota = opracuj_a_ukaz(pd.read_csv('./datasets/life_exp.csv'), \"dlzka_zivota\")\n",
    "perc_v_mestach = opracuj_a_ukaz(pd.read_csv('./datasets/urban_perc.csv'), \"perc_v_mestach\")\n",
    "jedlo_import_perc = opracuj_a_ukaz(pd.read_csv('./datasets/food_import_perc.csv'), \"jedlo_import_perc\")"
   ]
  },
  {
   "cell_type": "markdown",
   "metadata": {},
   "source": [
    "## Spajanie do jednej tabulky"
   ]
  },
  {
   "cell_type": "code",
   "execution_count": 6,
   "metadata": {
    "slideshow": {
     "slide_type": "slide"
    }
   },
   "outputs": [],
   "source": [
    "hlavna = pd.DataFrame(hdp.loc[: , :]).copy()"
   ]
  },
  {
   "cell_type": "code",
   "execution_count": 7,
   "metadata": {
    "slideshow": {
     "slide_type": "slide"
    }
   },
   "outputs": [],
   "source": [
    "def spoj_tabulky(hlavna, vedlajsia, stlpec, spojit_cez=\"kod_krajiny\"):\n",
    "    for index_hlavna, riadok_hlavna in hlavna.iterrows():\n",
    "        for index_vedlajsia , riadok_vedlasia in vedlajsia.iterrows():\n",
    "            if riadok_hlavna[spojit_cez] == riadok_vedlasia[spojit_cez]:\n",
    "                hlavna.loc[index_hlavna ,stlpec] = vedlajsia.loc[ index_vedlajsia, stlpec]"
   ]
  },
  {
   "cell_type": "code",
   "execution_count": 8,
   "metadata": {
    "slideshow": {
     "slide_type": "-"
    }
   },
   "outputs": [],
   "source": [
    "spoj_tabulky(hlavna, pocet_clankov, \"pocet_clankov\")\n",
    "spoj_tabulky(hlavna, dlzka_zivota, \"dlzka_zivota\")\n",
    "spoj_tabulky(hlavna, perc_v_mestach, \"perc_v_mestach\")\n",
    "spoj_tabulky(hlavna, jedlo_import_perc, \"jedlo_import_perc\")\n",
    "\n",
    "hlavna.set_index(\"kod_krajiny\", inplace=True)"
   ]
  },
  {
   "cell_type": "markdown",
   "metadata": {},
   "source": [
    "## Odstranenie hodnot ktore niesu krajiny"
   ]
  },
  {
   "cell_type": "code",
   "execution_count": 9,
   "metadata": {},
   "outputs": [
    {
     "data": {
      "text/plain": [
       "['AFG', 'ALA', 'ALB', 'DZA', 'ASM']"
      ]
     },
     "execution_count": 9,
     "metadata": {},
     "output_type": "execute_result"
    }
   ],
   "source": [
    "import urllib3\n",
    "import json\n",
    "urllib3.disable_warnings()\n",
    "\n",
    "\n",
    "http = urllib3.PoolManager()\n",
    "r = http.request('GET', 'https://restcountries.eu/rest/v2/all')\n",
    "krajiny = json.loads(r.data.decode('utf-8'))\n",
    "\n",
    "krajiny = list(map(lambda x: x['alpha3Code'], krajiny))\n",
    "krajiny[:5]"
   ]
  },
  {
   "cell_type": "code",
   "execution_count": 10,
   "metadata": {},
   "outputs": [
    {
     "name": "stdout",
     "output_type": "stream",
     "text": [
      "49\n"
     ]
    }
   ],
   "source": [
    "pocet_predtym = hlavna.shape[0]\n",
    "\n",
    "for key in hlavna.index:\n",
    "    if key not in krajiny:\n",
    "        hlavna.drop([key], axis=0, inplace=True)\n",
    "\n",
    "print(pocet_predtym - hlavna.shape[0])"
   ]
  },
  {
   "cell_type": "code",
   "execution_count": 17,
   "metadata": {},
   "outputs": [
    {
     "data": {
      "text/plain": [
       "215"
      ]
     },
     "execution_count": 17,
     "metadata": {},
     "output_type": "execute_result"
    }
   ],
   "source": []
  },
  {
   "cell_type": "markdown",
   "metadata": {},
   "source": [
    "# Pocitatanie a vykreslovanie"
   ]
  },
  {
   "cell_type": "markdown",
   "metadata": {},
   "source": [
    "### Ako vypocitame variacny koeficient ?\n",
    "$$r = \\frac{k}{s_{x} * s_{y}}$$\n",
    "\n",
    "$$k = \\frac{\\sum (x_{\\mathit{i}} - \\bar{x}) (y_{\\mathit{i}} - \\bar{y})}{n}$$\n",
    "\n",
    "$$s_{x} = \\sqrt{\\frac{\\sum (x_{\\mathit{i}} - \\bar{x})^{2}}{n}}$$"
   ]
  },
  {
   "cell_type": "code",
   "execution_count": 27,
   "metadata": {},
   "outputs": [],
   "source": [
    "from math import sqrt\n",
    "def vypocitaj_priemer(stlpec):\n",
    "    spolu = 0\n",
    "    \n",
    "    # Spocitanie dokopy\n",
    "    for riadok in stlpec:\n",
    "        spolu += riadok\n",
    "        \n",
    "    priemer = spolu / len(stlpec)\n",
    "    return priemer"
   ]
  },
  {
   "cell_type": "code",
   "execution_count": 19,
   "metadata": {},
   "outputs": [],
   "source": [
    "def vypocitaj_smerodajnu_odchylku(stlpec):\n",
    "    n = len(stlpec)\n",
    "    suma = 0\n",
    "    priemer = vypocitaj_priemer(stlpec)\n",
    "    \n",
    "    # Pocitanie sumy\n",
    "    for riadok in stlpec:\n",
    "        suma += (riadok - priemer)**2\n",
    "    \n",
    "    sm_odchylka = sqrt( suma / n )\n",
    "    \n",
    "    return sm_odchylka"
   ]
  },
  {
   "cell_type": "code",
   "execution_count": 33,
   "metadata": {},
   "outputs": [],
   "source": [
    "def vypocitaj_kcko(stlpec_x, stlpec_y):\n",
    "    n = len(stlpec_x)\n",
    "    suma = 0\n",
    "    \n",
    "    x_priemer = vypocitaj_priemer(stlpec_x)\n",
    "    y_priemer = vypocitaj_priemer(stlpec_y)\n",
    "    \n",
    "    # Pocitanie sumy\n",
    "    for i in range(n):\n",
    "        suma += (stlpec_x[i] - x_priemer) * (stlpec_y[i] - y_priemer)\n",
    "    \n",
    "    return suma / n"
   ]
  },
  {
   "cell_type": "code",
   "execution_count": 25,
   "metadata": {},
   "outputs": [],
   "source": [
    "def vypocitaj_kor_koef(stlpec_x, stlpec_y):\n",
    "    k = vypocitaj_kcko(stlpec_x, stlpec_y)\n",
    "    smerodajna_odchylka_x = vypocitaj_smerodajnu_odchylku(stlpec_x)\n",
    "    smerodajna_odchylka_y = vypocitaj_smerodajnu_odchylku(stlpec_y)\n",
    "    \n",
    "    return k / (smerodajna_odchylka_x * smerodajna_odchylka_y)"
   ]
  },
  {
   "cell_type": "code",
   "execution_count": 109,
   "metadata": {},
   "outputs": [
    {
     "data": {
      "text/html": [
       "<div>\n",
       "<style scoped>\n",
       "    .dataframe tbody tr th:only-of-type {\n",
       "        vertical-align: middle;\n",
       "    }\n",
       "\n",
       "    .dataframe tbody tr th {\n",
       "        vertical-align: top;\n",
       "    }\n",
       "\n",
       "    .dataframe thead th {\n",
       "        text-align: right;\n",
       "    }\n",
       "</style>\n",
       "<table border=\"1\" class=\"dataframe\">\n",
       "  <thead>\n",
       "    <tr style=\"text-align: right;\">\n",
       "      <th></th>\n",
       "      <th>hdp</th>\n",
       "      <th>perc_v_mestach</th>\n",
       "    </tr>\n",
       "    <tr>\n",
       "      <th>kod_krajiny</th>\n",
       "      <th></th>\n",
       "      <th></th>\n",
       "    </tr>\n",
       "  </thead>\n",
       "  <tbody>\n",
       "    <tr>\n",
       "      <th>ABW</th>\n",
       "      <td>NaN</td>\n",
       "      <td>41.304</td>\n",
       "    </tr>\n",
       "    <tr>\n",
       "      <th>AFG</th>\n",
       "      <td>561.778746</td>\n",
       "      <td>27.132</td>\n",
       "    </tr>\n",
       "    <tr>\n",
       "      <th>AGO</th>\n",
       "      <td>3308.700233</td>\n",
       "      <td>44.819</td>\n",
       "    </tr>\n",
       "    <tr>\n",
       "      <th>ALB</th>\n",
       "      <td>4124.982390</td>\n",
       "      <td>58.376</td>\n",
       "    </tr>\n",
       "    <tr>\n",
       "      <th>AND</th>\n",
       "      <td>36988.622030</td>\n",
       "      <td>84.612</td>\n",
       "    </tr>\n",
       "  </tbody>\n",
       "</table>\n",
       "</div>"
      ],
      "text/plain": [
       "                      hdp  perc_v_mestach\n",
       "kod_krajiny                              \n",
       "ABW                   NaN          41.304\n",
       "AFG            561.778746          27.132\n",
       "AGO           3308.700233          44.819\n",
       "ALB           4124.982390          58.376\n",
       "AND          36988.622030          84.612"
      ]
     },
     "execution_count": 109,
     "metadata": {},
     "output_type": "execute_result"
    }
   ],
   "source": [
    "hlavna.loc[:, [\"hdp\", \"perc_v_mestach\"]].head()"
   ]
  },
  {
   "cell_type": "code",
   "execution_count": 106,
   "metadata": {},
   "outputs": [],
   "source": [
    "def ocisti_tabulku(tabulka):\n",
    "    nova = tabulka.copy() \n",
    "    for riadok in nova.itertuples():\n",
    "        if np.isnan(riadok[1]) or np.isnan(riadok[2]):\n",
    "            nova.drop([riadok[0]], inplace=True)\n",
    "    return nova"
   ]
  },
  {
   "cell_type": "code",
   "execution_count": 107,
   "metadata": {},
   "outputs": [
    {
     "data": {
      "text/html": [
       "<div>\n",
       "<style scoped>\n",
       "    .dataframe tbody tr th:only-of-type {\n",
       "        vertical-align: middle;\n",
       "    }\n",
       "\n",
       "    .dataframe tbody tr th {\n",
       "        vertical-align: top;\n",
       "    }\n",
       "\n",
       "    .dataframe thead th {\n",
       "        text-align: right;\n",
       "    }\n",
       "</style>\n",
       "<table border=\"1\" class=\"dataframe\">\n",
       "  <thead>\n",
       "    <tr style=\"text-align: right;\">\n",
       "      <th></th>\n",
       "      <th>hdp</th>\n",
       "      <th>perc_v_mestach</th>\n",
       "    </tr>\n",
       "    <tr>\n",
       "      <th>kod_krajiny</th>\n",
       "      <th></th>\n",
       "      <th></th>\n",
       "    </tr>\n",
       "  </thead>\n",
       "  <tbody>\n",
       "    <tr>\n",
       "      <th>AFG</th>\n",
       "      <td>561.778746</td>\n",
       "      <td>27.132</td>\n",
       "    </tr>\n",
       "    <tr>\n",
       "      <th>AGO</th>\n",
       "      <td>3308.700233</td>\n",
       "      <td>44.819</td>\n",
       "    </tr>\n",
       "    <tr>\n",
       "      <th>ALB</th>\n",
       "      <td>4124.982390</td>\n",
       "      <td>58.376</td>\n",
       "    </tr>\n",
       "    <tr>\n",
       "      <th>AND</th>\n",
       "      <td>36988.622030</td>\n",
       "      <td>84.612</td>\n",
       "    </tr>\n",
       "  </tbody>\n",
       "</table>\n",
       "</div>"
      ],
      "text/plain": [
       "                      hdp  perc_v_mestach\n",
       "kod_krajiny                              \n",
       "AFG            561.778746          27.132\n",
       "AGO           3308.700233          44.819\n",
       "ALB           4124.982390          58.376\n",
       "AND          36988.622030          84.612"
      ]
     },
     "execution_count": 107,
     "metadata": {},
     "output_type": "execute_result"
    }
   ],
   "source": [
    "ocisti_tabulku(hlavna.loc[:, [\"hdp\", \"perc_v_mestach\"]].head())"
   ]
  },
  {
   "cell_type": "code",
   "execution_count": 139,
   "metadata": {
    "scrolled": true,
    "slideshow": {
     "slide_type": "-"
    }
   },
   "outputs": [
    {
     "data": {
      "image/png": "[encoded data removed]",
      "text/plain": [
       "<Figure size 432x288 with 1 Axes>"
      ]
     },
     "metadata": {},
     "output_type": "display_data"
    }
   ],
   "source": [
    "test = ocisti_tabulku(hlavna.loc[:, [\"hdp\", \"perc_v_mestach\"]])\n",
    "\n",
    "plt.scatter(test.loc[:, \"hdp\"], test.loc[:, \"perc_v_mestach\"])\n",
    "plt.xlabel(\"HDP\")\n",
    "plt.ylabel(\"perc_v_mestach\")\n",
    "\n",
    "plt.show()"
   ]
  },
  {
   "cell_type": "code",
   "execution_count": 34,
   "metadata": {},
   "outputs": [
    {
     "data": {
      "text/plain": [
       "0.6113256403820937"
      ]
     },
     "execution_count": 34,
     "metadata": {},
     "output_type": "execute_result"
    }
   ],
   "source": [
    "vypocitaj_kor_koef(test.loc[:, \"hdp\"], test.loc[:, \"perc_v_mestach\"])"
   ]
  },
  {
   "cell_type": "code",
   "execution_count": null,
   "metadata": {},
   "outputs": [],
   "source": [
    "def urob_graf(x_hodnoty, y_hodnoty, os_x_meno=\"os x\", os_y_meno=\"os y\", ciara=False):\n",
    "    plt.scatter(x_hodnoty, y_hodnoty)\n",
    "    \n",
    "    plt.xlabel(os_x_meno)\n",
    "    plt.ylabel(os_y_meno)\n",
    "    \n",
    "    if ciara:\n",
    "        z = np.polyfit(test.loc[:, \"hdp\"], test.loc[:, \"perc_v_mestach\"], 0.1)\n",
    "        p = np.poly1d(z)\n",
    "        plt.plot(test.loc[:, \"hdp\"],p(test.loc[:, \"hdp\"]), 'r-')\n",
    "\n",
    "    plt.show()"
   ]
  },
  {
   "cell_type": "code",
   "execution_count": null,
   "metadata": {},
   "outputs": [],
   "source": [
    "def vsetko(tabulka, os_x_meno = None, os_y_meno = None , ciara=False):\n",
    "    tabulka = ocisti_tabulku(tabulka)\n",
    "    \n",
    "    if not os_x_meno:\n",
    "        os_x_meno = tabulka.columns[0]\n",
    "    \n",
    "    if not os_y_meno:\n",
    "        os_y_meno = tabulka.columns[1]\n",
    "    \n",
    "    urob_graf(tabulka.iloc[:,0], tabulka.iloc[:, 1], os_x_meno, os_y_meno, ciara)\n",
    "    koeficient = vypocitaj_kor_koef(tabulka.iloc[:,0], tabulka.iloc[:, 1])\n",
    "    print(\" \")\n",
    "    print(\"Koeficient korelacie mezdzi \\\"{osx}\\\" a \\\"{osy}\\\" je: {koef}\".format(osx = os_x_meno, osy = os_y_meno, koef = koeficient))"
   ]
  },
  {
   "cell_type": "code",
   "execution_count": null,
   "metadata": {},
   "outputs": [],
   "source": [
    "vsetko(hlavna.loc[:, [\"perc_v_mestach\",\"dlzka_zivota\"]], ciara=True)"
   ]
  },
  {
   "cell_type": "code",
   "execution_count": null,
   "metadata": {},
   "outputs": [],
   "source": []
  }
 ],
 "metadata": {
  "kernelspec": {
   "display_name": "Python 3",
   "language": "python",
   "name": "python3"
  },
  "language_info": {
   "codemirror_mode": {
    "name": "ipython",
    "version": 3
   },
   "file_extension": ".py",
   "mimetype": "text/x-python",
   "name": "python",
   "nbconvert_exporter": "python",
   "pygments_lexer": "ipython3",
   "version": "3.6.5"
  }
 },
 "nbformat": 4,
 "nbformat_minor": 2
}
